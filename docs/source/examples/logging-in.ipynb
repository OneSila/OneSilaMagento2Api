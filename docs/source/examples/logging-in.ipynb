{
 "cells": [
  {
   "cell_type": "markdown",
   "source": [
    "# Get a Magento 2 REST API Token With MyMagento\n",
    "\n",
    "Let's get an API token using the [MyMagento](https://pypi.org/project/my-magento) Magento REST API wrapper package.\n",
    "\n",
    "\n",
    "## Setting the Login Credentials\n",
    "\n",
    "Use your Magento 2 login credentials to generate an {py:attr}`~ACCESS_TOKEN`"
   ],
   "metadata": {
    "collapsed": false
   }
  },
  {
   "cell_type": "code",
   "execution_count": 1,
   "outputs": [],
   "source": [
    "domain = 'domain.com'\n",
    "username ='username'\n",
    "password = 'password'"
   ],
   "metadata": {
    "collapsed": false
   }
  },
  {
   "cell_type": "markdown",
   "source": [
    "If you're using a local installation of Magento, your domain should look like this:"
   ],
   "metadata": {
    "collapsed": false
   }
  },
  {
   "cell_type": "code",
   "execution_count": 3,
   "outputs": [],
   "source": [
    "domain = '127.0.0.1/path/to/magento'"
   ],
   "metadata": {
    "collapsed": false
   }
  },
  {
   "cell_type": "markdown",
   "source": [
    "\n",
    "## Getting a {py:class}`~.Client`\n",
    "Now that that's set that up, let's start using the API.\n",
    "\n",
    "MyMagento uses the {py:class}`~.Client` class to handle all interactions with the API\n"
   ],
   "metadata": {
    "collapsed": false
   }
  },
  {
   "cell_type": "code",
   "execution_count": 2,
   "outputs": [
    {
     "name": "stdout",
     "output_type": "stream",
     "text": [
      "2023-02-15 01:09:05 INFO   |[ MyMagento | 127_adam ]|:  Authenticating adam on 127.0.0.1/magento24...\n",
      "2023-02-15 01:09:06 INFO   |[ MyMagento | 127_adam ]|:  Logged in to adam\n"
     ]
    }
   ],
   "source": [
    "import magento\n",
    "\n",
    "api = magento.get_api(domain=domain, username=username, password=password, local=True)"
   ],
   "metadata": {
    "collapsed": false
   }
  },
  {
   "cell_type": "markdown",
   "source": [
    "## Setting Environment Variables\n",
    "\n",
    "To log in faster in the future, you can set the following environment variables:"
   ],
   "metadata": {
    "collapsed": false
   }
  },
  {
   "cell_type": "code",
   "execution_count": 3,
   "outputs": [],
   "source": [
    "import os\n",
    "\n",
    "os.environ['MAGENTO_DOMAIN'] = domain\n",
    "os.environ['MAGENTO_USERNAME']= username\n",
    "os.environ['MAGENTO_PASSWORD']= password"
   ],
   "metadata": {
    "collapsed": false
   }
  },
  {
   "cell_type": "markdown",
   "source": [
    "The {py:class}`~.Client` can now be initialized as follows"
   ],
   "metadata": {
    "collapsed": false
   }
  },
  {
   "cell_type": "code",
   "execution_count": 5,
   "outputs": [
    {
     "name": "stdout",
     "output_type": "stream",
     "text": [
      "2023-02-15 01:09:28 INFO   |[ MyMagento | 127_adam ]|:  Authenticating adam on 127.0.0.1/magento24...\n",
      "2023-02-15 01:09:30 INFO   |[ MyMagento | 127_adam ]|:  Logged in to adam\n"
     ]
    }
   ],
   "source": [
    "import magento\n",
    "\n",
    "api = magento.get_api(local=True)"
   ],
   "metadata": {
    "collapsed": false
   }
  },
  {
   "cell_type": "markdown",
   "source": [
    "Note that all settings below can be passed to ``get_api()`` as keyword arguments:"
   ],
   "metadata": {
    "collapsed": false
   }
  },
  {
   "cell_type": "code",
   "execution_count": null,
   "outputs": [],
   "source": [
    "api.view_config()"
   ],
   "metadata": {
    "collapsed": false,
    "pycharm": {
     "is_executing": true
    }
   }
  }
 ],
 "metadata": {
  "kernelspec": {
   "display_name": "Python 3",
   "language": "python",
   "name": "python3"
  },
  "language_info": {
   "codemirror_mode": {
    "name": "ipython",
    "version": 2
   },
   "file_extension": ".py",
   "mimetype": "text/x-python",
   "name": "python",
   "nbconvert_exporter": "python",
   "pygments_lexer": "ipython2",
   "version": "2.7.6"
  }
 },
 "nbformat": 4,
 "nbformat_minor": 0
}
